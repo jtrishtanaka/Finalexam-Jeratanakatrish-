{
  "nbformat": 4,
  "nbformat_minor": 0,
  "metadata": {
    "colab": {
      "provenance": []
    },
    "kernelspec": {
      "name": "python3",
      "display_name": "Python 3"
    },
    "language_info": {
      "name": "python"
    }
  },
  "cells": [
    {
      "cell_type": "code",
      "source": [
        "def refined_safe_weather_data_fetch(city):\n",
        "    \"\"\"\n",
        "    Fetch weather data with basic error handling - Week 8 style\n",
        "\n",
        "    >>> refined_safe_weather_data_fetch(\"\")\n",
        "    'Error: City name cannot be empty'\n",
        "    >>> refined_safe_weather_data_fetch(\"InvalidCity123\")  # doctest: +SKIP\n",
        "    'Error: Could not connect to weather service'\n",
        "    >>> refined_safe_weather_data_fetch(\"London\")\n",
        "    {'city': 'London', 'temperature_celsius': 22, 'condition': 'Sunny', 'humidity_percent': 55}\n",
        "    \"\"\"\n",
        "    try:\n",
        "        # Basic input validation - check if the city name is empty\n",
        "        if not city:\n",
        "            return \"Error: City name cannot be empty\"\n",
        "\n",
        "        # Simulate a predefined list of valid cities\n",
        "        valid_cities = [\"London\", \"Paris\", \"New York\"]\n",
        "\n",
        "        # Simulate failure if the city is not in the list\n",
        "        if city not in valid_cities:\n",
        "            raise Exception(\"Invalid city or connection failure\")\n",
        "\n",
        "        # Simulated weather data dictionary\n",
        "        weather_data = {\n",
        "            \"city\": city,\n",
        "            \"temperature_celsius\": 22,\n",
        "            \"condition\": \"Sunny\",\n",
        "            \"humidity_percent\": 55\n",
        "        }\n",
        "\n",
        "        return weather_data\n",
        "\n",
        "    except:\n",
        "        return \"Error: Could not connect to weather service\"\n",
        "\n",
        "\n",
        "# Run doctests and show output when script is executed\n",
        "if __name__ == \"__main__\":\n",
        "    import doctest\n",
        "    doctest.testmod()\n",
        "\n",
        "    # Manual tests for demonstration\n",
        "    print(\"Manual Test Outputs:\")\n",
        "    print(refined_safe_weather_data_fetch(\"\"))              # Should return error for empty city\n",
        "    print(refined_safe_weather_data_fetch(\"InvalidCity123\")) # Should return error for invalid city\n",
        "    print(refined_safe_weather_data_fetch(\"London\"))         # Should return weather dictionary\n"
      ],
      "metadata": {
        "id": "WxALuVgv_vsl"
      },
      "execution_count": null,
      "outputs": []
    }
  ]
}